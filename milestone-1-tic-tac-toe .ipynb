{
 "cells": [
  {
   "cell_type": "code",
   "execution_count": 1,
   "id": "60ccab55-3972-420b-830f-5dbd218e8b8f",
   "metadata": {},
   "outputs": [],
   "source": [
    "#tic tac to game "
   ]
  },
  {
   "cell_type": "code",
   "execution_count": 3,
   "id": "c58c2f3e-d098-492a-8e24-2271c2853116",
   "metadata": {},
   "outputs": [],
   "source": [
    "from IPython.display import clear_output"
   ]
  },
  {
   "cell_type": "code",
   "execution_count": 5,
   "id": "74363c3d-cc26-48be-b1ec-ae1bb6ab9be0",
   "metadata": {},
   "outputs": [],
   "source": [
    "sam=['#',' ','x','x','o','o','x','o','x','o']"
   ]
  },
  {
   "cell_type": "code",
   "execution_count": 7,
   "id": "4d82a8f1-0340-4e29-b058-ed16466d6692",
   "metadata": {},
   "outputs": [],
   "source": [
    "def board(sam):\n",
    "    clear_output()\n",
    "    print(sam[7]+'|'+sam[8]+'|'+sam[9])\n",
    "    print(sam[4]+'|'+sam[5]+'|'+sam[6])\n",
    "    print(sam[1]+'|'+sam[2]+'|'+sam[3])\n",
    "\n"
   ]
  },
  {
   "cell_type": "code",
   "execution_count": 9,
   "id": "c25014f6-dd89-42b3-a8c9-6cd77e786c5e",
   "metadata": {},
   "outputs": [
    {
     "name": "stdout",
     "output_type": "stream",
     "text": [
      "o|x|o\n",
      "o|o|x\n",
      " |x|x\n"
     ]
    }
   ],
   "source": [
    "board(sam)\n",
    "\n"
   ]
  },
  {
   "cell_type": "code",
   "execution_count": 11,
   "id": "5768ca34-1d52-46ab-a0a0-f8f595394ffd",
   "metadata": {},
   "outputs": [],
   "source": [
    "#creating the funcion for marker x or o"
   ]
  },
  {
   "cell_type": "code",
   "execution_count": 13,
   "id": "5f06de11-0660-49c5-a47c-639b2cab55dc",
   "metadata": {},
   "outputs": [],
   "source": [
    "def player_input():\n",
    "    marker = ''\n",
    "    \n",
    "    while not (marker == 'X' or marker == 'O'):\n",
    "        marker = input('Player 1: Do you want to be X or O? ').upper()\n",
    "\n",
    "    if marker == 'X':\n",
    "        return ('X', 'O')\n",
    "    else:\n",
    "        return ('O', 'X')\n",
    "    "
   ]
  },
  {
   "cell_type": "code",
   "execution_count": 15,
   "id": "71a9dccc-32b0-4294-9987-af1e60096fd4",
   "metadata": {},
   "outputs": [
    {
     "name": "stdin",
     "output_type": "stream",
     "text": [
      "Player 1: Do you want to be X or O?  x\n"
     ]
    },
    {
     "data": {
      "text/plain": [
       "('X', 'O')"
      ]
     },
     "execution_count": 15,
     "metadata": {},
     "output_type": "execute_result"
    }
   ],
   "source": [
    "player_input()"
   ]
  },
  {
   "cell_type": "code",
   "execution_count": 17,
   "id": "0b8b45ae-4387-4e27-a933-9805084b8e5a",
   "metadata": {},
   "outputs": [],
   "source": [
    "# Creating the funtion to get the marker "
   ]
  },
  {
   "cell_type": "code",
   "execution_count": 19,
   "id": "7f51d380-d6d6-4ea7-8b0c-c4a7032b38b1",
   "metadata": {},
   "outputs": [],
   "source": [
    "def position1(sam,marker,position):\n",
    "    sam[position]=marker"
   ]
  },
  {
   "cell_type": "code",
   "execution_count": 21,
   "id": "a93141f4-970f-49e7-8c0c-8331bc3357d4",
   "metadata": {},
   "outputs": [],
   "source": [
    "position1(sam,'y',4)\n"
   ]
  },
  {
   "cell_type": "code",
   "execution_count": 23,
   "id": "69743fbe-bb94-45d3-b04c-b71505771c62",
   "metadata": {},
   "outputs": [
    {
     "name": "stdout",
     "output_type": "stream",
     "text": [
      "o|x|o\n",
      "y|o|x\n",
      " |x|x\n"
     ]
    }
   ],
   "source": [
    "board(sam)"
   ]
  },
  {
   "cell_type": "code",
   "execution_count": 25,
   "id": "9453f8ba-0f72-4efc-b087-62afaa7f51bb",
   "metadata": {},
   "outputs": [],
   "source": [
    "#creating the funtion to check winer"
   ]
  },
  {
   "cell_type": "code",
   "execution_count": 27,
   "id": "ad104806-83c0-43b2-9091-3aed42dac617",
   "metadata": {},
   "outputs": [],
   "source": [
    "def winnercheck(sam,marker):\n",
    "    return ((sam[7]==sam[8]==sam[9]==marker)or\n",
    "            (sam[4]==sam[5]==sam[6]==marker)or\n",
    "            (sam[1]==sam[2]==sam[3]==marker)or\n",
    "            (sam[7]==sam[4]==sam[1]==marker)or\n",
    "            (sam[8]==sam[5]==sam[2]==marker)or\n",
    "            (sam[9]==sam[6]==sam[3]==marker)or\n",
    "            (sam[7]==sam[5]==sam[3]==marker)or\n",
    "            (sam[9]==sam[5]==sam[1]==marker))"
   ]
  },
  {
   "cell_type": "code",
   "execution_count": 29,
   "id": "90322414-f5d1-4c47-80c8-3069e407b46e",
   "metadata": {},
   "outputs": [
    {
     "data": {
      "text/plain": [
       "False"
      ]
     },
     "execution_count": 29,
     "metadata": {},
     "output_type": "execute_result"
    }
   ],
   "source": [
    "winnercheck(sam,'o')"
   ]
  },
  {
   "cell_type": "code",
   "execution_count": 31,
   "id": "bec88cc2-9819-4917-a54d-89c464246d8e",
   "metadata": {},
   "outputs": [],
   "source": [
    "#randam player choose function "
   ]
  },
  {
   "cell_type": "code",
   "execution_count": 33,
   "id": "2a661544-edf1-4130-bd16-f7f4ff050a63",
   "metadata": {},
   "outputs": [],
   "source": [
    "import random"
   ]
  },
  {
   "cell_type": "code",
   "execution_count": 35,
   "id": "5581060d-7a31-4238-929e-29b809dbe3df",
   "metadata": {},
   "outputs": [],
   "source": [
    "def chooseplayer():\n",
    " \n",
    "    flip=random.randint(0,1)\n",
    "    if flip ==0:\n",
    "        return 'player1'\n",
    "    else:\n",
    "        return 'player2'"
   ]
  },
  {
   "cell_type": "code",
   "execution_count": 37,
   "id": "8c3efb1e-9a32-4e87-85a1-b0e1cf05436b",
   "metadata": {},
   "outputs": [
    {
     "data": {
      "text/plain": [
       "'player2'"
      ]
     },
     "execution_count": 37,
     "metadata": {},
     "output_type": "execute_result"
    }
   ],
   "source": [
    "chooseplayer()"
   ]
  },
  {
   "cell_type": "code",
   "execution_count": 39,
   "id": "c8f7d6b9-acf3-40a5-a5af-c4de6915eb2f",
   "metadata": {},
   "outputs": [],
   "source": [
    "#checking the space is available or not "
   ]
  },
  {
   "cell_type": "code",
   "execution_count": 41,
   "id": "7a9519d5-bd93-48f9-9683-866a1a2426cf",
   "metadata": {},
   "outputs": [],
   "source": [
    "def spacecheck(sam,position):\n",
    "    return sam[position]==' '"
   ]
  },
  {
   "cell_type": "code",
   "execution_count": 43,
   "id": "36ccea2d-91ed-4744-b0b7-c517d2e618a8",
   "metadata": {},
   "outputs": [
    {
     "data": {
      "text/plain": [
       "True"
      ]
     },
     "execution_count": 43,
     "metadata": {},
     "output_type": "execute_result"
    }
   ],
   "source": [
    "spacecheck(sam,1)"
   ]
  },
  {
   "cell_type": "code",
   "execution_count": 45,
   "id": "48d94e1a-9a5e-4a53-8573-0bc24f0bb5be",
   "metadata": {},
   "outputs": [],
   "source": [
    "#check space"
   ]
  },
  {
   "cell_type": "code",
   "execution_count": 47,
   "id": "e2dd6c55-d8d7-42f1-b3f2-0fd455890d60",
   "metadata": {},
   "outputs": [],
   "source": [
    "def fullspacecheck(sam):\n",
    "    for i in range(1,10):\n",
    "        if spacecheck(sam,i):\n",
    "            return False\n",
    "    return True\n",
    "        "
   ]
  },
  {
   "cell_type": "code",
   "execution_count": 49,
   "id": "71942353-520c-4c83-bc3a-448f74ba34a5",
   "metadata": {},
   "outputs": [
    {
     "data": {
      "text/plain": [
       "False"
      ]
     },
     "execution_count": 49,
     "metadata": {},
     "output_type": "execute_result"
    }
   ],
   "source": [
    "fullspacecheck(sam)"
   ]
  },
  {
   "cell_type": "code",
   "execution_count": 51,
   "id": "0ee3b978-756b-4cf8-b5ee-1aae83e00b50",
   "metadata": {},
   "outputs": [],
   "source": [
    "#creting a fuction that gets the user next position"
   ]
  },
  {
   "cell_type": "code",
   "execution_count": 53,
   "id": "817ec7b8-243f-4891-b682-0fdc0e93f5ba",
   "metadata": {},
   "outputs": [],
   "source": [
    "def player_choice(board):\n",
    "    position = 0\n",
    "    \n",
    "    while position not in [1,2,3,4,5,6,7,8,9] or not spacecheck(board, position):\n",
    "        position = int(input('Choose your next position: (1-9) '))\n",
    "        \n",
    "    return position"
   ]
  },
  {
   "cell_type": "code",
   "execution_count": 55,
   "id": "f1dcb355-e8c1-4911-a9ae-e4c826ad3ff0",
   "metadata": {},
   "outputs": [
    {
     "name": "stdin",
     "output_type": "stream",
     "text": [
      "Choose your next position: (1-9)  2\n",
      "Choose your next position: (1-9)  4\n",
      "Choose your next position: (1-9)  7\n",
      "Choose your next position: (1-9)  1\n"
     ]
    },
    {
     "data": {
      "text/plain": [
       "1"
      ]
     },
     "execution_count": 55,
     "metadata": {},
     "output_type": "execute_result"
    }
   ],
   "source": [
    "player_choice(sam)"
   ]
  },
  {
   "cell_type": "code",
   "execution_count": 57,
   "id": "b499dd42-b787-4c94-995a-fc147ea02acc",
   "metadata": {},
   "outputs": [],
   "source": [
    "#creating a replay funtion "
   ]
  },
  {
   "cell_type": "code",
   "execution_count": 59,
   "id": "4869e19b-c5ee-4e0c-9074-d342a341de55",
   "metadata": {},
   "outputs": [],
   "source": [
    "def replay():\n",
    "    play=input('YES IF YOU WANT TO PLAY AGAIN OR PRINT NO').lower()\n",
    "    return play=='yes'"
   ]
  },
  {
   "cell_type": "code",
   "execution_count": 61,
   "id": "a8d81bf9-7efb-4db5-af15-3e6bdb1fd19f",
   "metadata": {},
   "outputs": [
    {
     "name": "stdin",
     "output_type": "stream",
     "text": [
      "YES IF YOU WANT TO PLAY AGAIN OR PRINT NO yes\n"
     ]
    },
    {
     "data": {
      "text/plain": [
       "True"
      ]
     },
     "execution_count": 61,
     "metadata": {},
     "output_type": "execute_result"
    }
   ],
   "source": [
    "replay()"
   ]
  },
  {
   "cell_type": "code",
   "execution_count": 63,
   "id": "9fe418a6-40dd-4587-86f7-012959696852",
   "metadata": {},
   "outputs": [],
   "source": [
    "#main funtion call to combine all the funtion "
   ]
  },
  {
   "cell_type": "code",
   "execution_count": null,
   "id": "592202c7-8b78-4ea4-a473-704472a15533",
   "metadata": {},
   "outputs": [
    {
     "name": "stdout",
     "output_type": "stream",
     "text": [
      "X| |O\n",
      "X|O|O\n",
      "O|X|X\n",
      "player 2 has won the game\n"
     ]
    }
   ],
   "source": [
    "print( \"WELLCOME TO THE TIC TAC TO GAME \")\n",
    "while True:\n",
    "    sam=[' ']*10\n",
    "    board(sam)\n",
    "    player1_marker,player2_marker=player_input()\n",
    "    turn=chooseplayer()\n",
    "    print(turn+'will go first')\n",
    "    play=input('do you want to play type : yes or no ')\n",
    "    if play=='yes':\n",
    "        gameon=True\n",
    "    else :\n",
    "        gameon=False\n",
    "\n",
    "    while gameon:\n",
    "        \n",
    "            if turn=='player1':\n",
    "                board(sam)\n",
    "                position=player_choice(sam)\n",
    "                position1(sam,player1_marker,position)\n",
    "                \n",
    "                \n",
    "                if winnercheck(sam,player1_marker):\n",
    "                    board(sam)\n",
    "                    print('player 1 has won the game')\n",
    "                    gameon=False\n",
    "                else:\n",
    "                    if fullspacecheck(sam):\n",
    "                        board(sam)\n",
    "                        print('the game is tie')\n",
    "                        gameon=False\n",
    "                    else:\n",
    "                        turn='player2'\n",
    "                    \n",
    "\n",
    "\n",
    "\n",
    "\n",
    "\n",
    "\n",
    "            else:\n",
    "                if turn=='player2':\n",
    "                    board(sam)\n",
    "                    position=player_choice(sam)\n",
    "                    position1(sam,player2_marker,position)\n",
    "                \n",
    "                \n",
    "                if winnercheck(sam,player2_marker):\n",
    "                    board(sam)\n",
    "                    print('player 2 has won the game')\n",
    "                    gameon=False\n",
    "                else:\n",
    "                    \n",
    "                    if fullspacecheck(sam):\n",
    "                        board(sam)\n",
    "                        print('the game is tie')\n",
    "                        gameon=False\n",
    "                    else:\n",
    "                        turn='player1'\n",
    "        \n",
    "        \n",
    "        \n",
    "\n",
    "    \n",
    "\n",
    "\n",
    "\n",
    "\n",
    "    if not replay():\n",
    "        break\n",
    "      "
   ]
  },
  {
   "cell_type": "code",
   "execution_count": null,
   "id": "edcc69ed-c543-4b73-a2ff-9f5c9c0b193a",
   "metadata": {},
   "outputs": [],
   "source": [
    "1\n"
   ]
  },
  {
   "cell_type": "code",
   "execution_count": null,
   "id": "f69cdeb1-f4e1-4e64-91fa-99601cb3202a",
   "metadata": {},
   "outputs": [],
   "source": []
  }
 ],
 "metadata": {
  "kernelspec": {
   "display_name": "Python 3 (ipykernel)",
   "language": "python",
   "name": "python3"
  },
  "language_info": {
   "codemirror_mode": {
    "name": "ipython",
    "version": 3
   },
   "file_extension": ".py",
   "mimetype": "text/x-python",
   "name": "python",
   "nbconvert_exporter": "python",
   "pygments_lexer": "ipython3",
   "version": "3.12.4"
  }
 },
 "nbformat": 4,
 "nbformat_minor": 5
}
