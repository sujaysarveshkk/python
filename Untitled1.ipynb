{
 "cells": [
  {
   "cell_type": "markdown",
   "id": "1315fcfd-4211-4f46-84f0-d85a51e7c63b",
   "metadata": {},
   "source": [
    "functions and methods "
   ]
  },
  {
   "cell_type": "code",
   "execution_count": 76,
   "id": "66de0981-6f4e-406d-802c-2eb45286fec1",
   "metadata": {},
   "outputs": [],
   "source": [
    "def sum_name(lsting):\n",
    "    list0=[]\n",
    "    for name in lsting:\n",
    "        if name%2==0:\n",
    "            list0.append(name)\n",
    "            print(name)\n",
    "    return list0\n",
    "            \n",
    "    \n",
    "            "
   ]
  },
  {
   "cell_type": "code",
   "execution_count": 78,
   "id": "179c08b1-b1fa-48b4-aa29-f6f4728ab488",
   "metadata": {},
   "outputs": [
    {
     "name": "stdout",
     "output_type": "stream",
     "text": [
      "2\n",
      "4\n",
      "6\n",
      "8\n"
     ]
    },
    {
     "data": {
      "text/plain": [
       "[2, 4, 6, 8]"
      ]
     },
     "execution_count": 78,
     "metadata": {},
     "output_type": "execute_result"
    }
   ],
   "source": [
    "sum_name([1,2,4,6,8])"
   ]
  },
  {
   "cell_type": "code",
   "execution_count": 80,
   "id": "7d055fdd-6443-42db-9bd2-a8e57188113d",
   "metadata": {},
   "outputs": [],
   "source": [
    "stock_prices = [('AAPL',200),('GOOG',300),('MSFT',400)]"
   ]
  },
  {
   "cell_type": "code",
   "execution_count": 119,
   "id": "77402381-0a66-4efc-bd74-77bbeec3abda",
   "metadata": {},
   "outputs": [],
   "source": [
    "def smart_high_price(stock_prices):\n",
    "    stockname =''\n",
    "    stockhighprice =0\n",
    "    for stock,price in stock_prices:\n",
    "        if stockhighprice < price:\n",
    "            stockhighprice=price\n",
    "            stockname= stock\n",
    "        else:\n",
    "            pass\n",
    "\n",
    "    return(stockname,stockhighprice)\n",
    "    \n"
   ]
  },
  {
   "cell_type": "code",
   "execution_count": 125,
   "id": "1317ad1b-1f91-46f8-854a-0ab5c805f5f6",
   "metadata": {},
   "outputs": [],
   "source": [
    " item,value= smart_high_price(stock_prices)"
   ]
  },
  {
   "cell_type": "code",
   "execution_count": 127,
   "id": "2b26d845-8df4-473c-b7eb-689523c65e84",
   "metadata": {},
   "outputs": [
    {
     "data": {
      "text/plain": [
       "('MSFT', 400)"
      ]
     },
     "execution_count": 127,
     "metadata": {},
     "output_type": "execute_result"
    }
   ],
   "source": [
    "result"
   ]
  },
  {
   "cell_type": "code",
   "execution_count": 129,
   "id": "73eb9c92-693f-4de4-aed9-ab00e943c8be",
   "metadata": {},
   "outputs": [
    {
     "data": {
      "text/plain": [
       "'MSFT'"
      ]
     },
     "execution_count": 129,
     "metadata": {},
     "output_type": "execute_result"
    }
   ],
   "source": [
    "item"
   ]
  },
  {
   "cell_type": "code",
   "execution_count": 131,
   "id": "4db62208-77ee-4932-ba39-06d4ad2cbae3",
   "metadata": {},
   "outputs": [
    {
     "data": {
      "text/plain": [
       "400"
      ]
     },
     "execution_count": 131,
     "metadata": {},
     "output_type": "execute_result"
    }
   ],
   "source": [
    "value"
   ]
  },
  {
   "cell_type": "code",
   "execution_count": null,
   "id": "0d6d8095-0b93-4fac-a7b3-ba6d55525f96",
   "metadata": {},
   "outputs": [],
   "source": []
  }
 ],
 "metadata": {
  "kernelspec": {
   "display_name": "Python 3 (ipykernel)",
   "language": "python",
   "name": "python3"
  },
  "language_info": {
   "codemirror_mode": {
    "name": "ipython",
    "version": 3
   },
   "file_extension": ".py",
   "mimetype": "text/x-python",
   "name": "python",
   "nbconvert_exporter": "python",
   "pygments_lexer": "ipython3",
   "version": "3.12.4"
  }
 },
 "nbformat": 4,
 "nbformat_minor": 5
}
