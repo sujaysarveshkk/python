{
 "cells": [
  {
   "cell_type": "code",
   "execution_count": 16,
   "id": "adffee8b-f29e-43bc-be37-bbf94d842318",
   "metadata": {},
   "outputs": [
    {
     "name": "stdout",
     "output_type": "stream",
     "text": [
      "8\n"
     ]
    }
   ],
   "source": [
    "def suf(a,k):\n",
    "    n=0\n",
    "    for i in a:\n",
    "        n=n+i//k\n",
    "        if n%k!=0:\n",
    "            n+=1\n",
    "    return n\n",
    "\n",
    "a=[10,2,3,4,7]\n",
    "k=4\n",
    "print(suf(a,k))"
   ]
  },
  {
   "cell_type": "code",
   "execution_count": 1,
   "id": "4c8d1382-f4c1-42c9-9a89-1ba9802b1331",
   "metadata": {},
   "outputs": [],
   "source": [
    "def sumer(rad):\n",
    "    return ((4//3)*(3.14)*rad**2)"
   ]
  },
  {
   "cell_type": "code",
   "execution_count": 4,
   "id": "e6d19043-0563-4439-a142-c9a56a00bd31",
   "metadata": {},
   "outputs": [
    {
     "name": "stdout",
     "output_type": "stream",
     "text": [
      "113.04\n"
     ]
    }
   ],
   "source": [
    "print(sumer(6))"
   ]
  },
  {
   "cell_type": "code",
   "execution_count": 31,
   "id": "b61de535-0fd6-437b-80b0-0ea11d89307d",
   "metadata": {},
   "outputs": [],
   "source": [
    "def checkrange(num,low,higher):\n",
    "       if num in range (low,higher+1):\n",
    "           return True\n",
    "           \n",
    "       els\n",
    "           print(False)\n",
    "           "
   ]
  },
  {
   "cell_type": "code",
   "execution_count": 33,
   "id": "e3e26db2-0b8b-448f-a0a3-2903e82b8054",
   "metadata": {},
   "outputs": [
    {
     "name": "stdout",
     "output_type": "stream",
     "text": [
      "False\n",
      "None\n"
     ]
    }
   ],
   "source": [
    "\n",
    "print(checkrange(7,0,5))"
   ]
  },
  {
   "cell_type": "raw",
   "id": "231a976e-6209-4505-bff0-2dbc282fff0e",
   "metadata": {},
   "source": [
    "count of upper case letters and lower casse letter"
   ]
  },
  {
   "cell_type": "code",
   "execution_count": 50,
   "id": "8e8c23bd-5cf3-481d-96bb-3fdb43d77e65",
   "metadata": {},
   "outputs": [
    {
     "name": "stdout",
     "output_type": "stream",
     "text": [
      "(4, 3)\n"
     ]
    }
   ],
   "source": [
    "def checkupper_lower(enterstring):\n",
    "    lowercount=0\n",
    "    uppercount=0\n",
    "    for i in range (len(enterstring)):\n",
    "        if enterstring[i].isupper():\n",
    "            uppercount+=1\n",
    "        elif enterstring[i].islower():\n",
    "            lowercount+=1\n",
    "    return lowercount,uppercount\n",
    "print(checkupper_lower(\"THW hero\"))\n"
   ]
  },
  {
   "cell_type": "code",
   "execution_count": null,
   "id": "de78b77b-5971-4085-b695-1f54a68e50f3",
   "metadata": {},
   "outputs": [],
   "source": []
  },
  {
   "cell_type": "code",
   "execution_count": 56,
   "id": "67187365-1a1c-4102-a89c-5d033e50e342",
   "metadata": {},
   "outputs": [],
   "source": [
    "import string "
   ]
  },
  {
   "cell_type": "code",
   "execution_count": 60,
   "id": "23f56c57-a441-4336-9759-e81cf41e05cf",
   "metadata": {},
   "outputs": [
    {
     "name": "stdout",
     "output_type": "stream",
     "text": [
      "False\n"
     ]
    }
   ],
   "source": [
    "def pangram(str,alfabets=string.ascii_lowercase):\n",
    "    alfabets=set(alfabets)\n",
    "    str=str.replace(\" \",\"\")\n",
    "    str=str.lower()\n",
    "    str=set(str)\n",
    "    return str==alfabets\n",
    "print(pangram(\"quick brown fox jumps over the lazy do\"))"
   ]
  },
  {
   "cell_type": "code",
   "execution_count": 11,
   "id": "d8a59c78-3802-4f40-8d9b-6a336db4d242",
   "metadata": {},
   "outputs": [
    {
     "name": "stdin",
     "output_type": "stream",
     "text": [
      "enter the value x\n"
     ]
    },
    {
     "name": "stdout",
     "output_type": "stream",
     "text": [
      "['', '', '']\n",
      "['', 'x', '']\n",
      "['', '', '']\n"
     ]
    }
   ],
   "source": [
    "def display(input1,input2,input3):\n",
    "    \n",
    "    print(input1)\n",
    "    print(input2)\n",
    "    print(input3)\n",
    "input1=['','','']\n",
    "input2=['','','']\n",
    "input3=['','','']\n",
    "for i in input1:\n",
    "display(input1,input2,input3)\n"
   ]
  },
  {
   "cell_type": "raw",
   "id": "df4f0334-7d16-4167-abc6-8344cfd43be6",
   "metadata": {},
   "source": [
    "creating a funtion to which get user input if not valid ask again with help of while loop and a.isdegit()"
   ]
  },
  {
   "cell_type": "code",
   "execution_count": 5,
   "id": "3ffabc99-7801-4558-b616-99c6451a7f1d",
   "metadata": {},
   "outputs": [],
   "source": [
    "def inputcheck():\n",
    "    value=' '\n",
    "    while value.isdigit()==False:\n",
    "        value=input('enter the value ')\n",
    "        if value.isdigit()==False:\n",
    "            print('sorry you have enter the wrong value')\n",
    "    return value"
   ]
  },
  {
   "cell_type": "code",
   "execution_count": 7,
   "id": "d0b9c064-d021-42d2-bfa2-12d6951405d3",
   "metadata": {},
   "outputs": [
    {
     "name": "stdin",
     "output_type": "stream",
     "text": [
      "enter the value  sujay\n"
     ]
    },
    {
     "name": "stdout",
     "output_type": "stream",
     "text": [
      "sorry you have enter the wrong value\n"
     ]
    },
    {
     "name": "stdin",
     "output_type": "stream",
     "text": [
      "enter the value  44\n"
     ]
    },
    {
     "data": {
      "text/plain": [
       "'44'"
      ]
     },
     "execution_count": 7,
     "metadata": {},
     "output_type": "execute_result"
    }
   ],
   "source": [
    "inputcheck()"
   ]
  },
  {
   "cell_type": "raw",
   "id": "ca8ecb7d-c16d-4f4e-8133-dde025348924",
   "metadata": {},
   "source": [
    "now checking with both the range and isdigit() "
   ]
  },
  {
   "cell_type": "code",
   "execution_count": 10,
   "id": "9288e8a4-8ade-4626-8946-3f1f995d0e61",
   "metadata": {},
   "outputs": [],
   "source": [
    "def check1():\n",
    "    value='wrint'\n",
    "    acceptable_range=range(0,10)\n",
    "    with_inrange=False\n",
    "    while value.isdigit()==False or with_inrange==False:\n",
    "        \n",
    "        value=input('please enter the value ')\n",
    "        # isdigit check\n",
    "        if value.isdigit()==False:\n",
    "            print('sorry you have entered a wrong or invalid value')\n",
    "        # range check \n",
    "        if value.isdigit()==True:\n",
    "            if int(value) in acceptable_range:\n",
    "                with_inrange=True\n",
    "            else:\n",
    "                print('the value is not with in range ')\n",
    "                with_inrange=False\n",
    "                \n",
    "    return int(value)\n",
    "            "
   ]
  },
  {
   "cell_type": "code",
   "execution_count": 12,
   "id": "ebd37cc5-5ba5-4217-951d-509496efff95",
   "metadata": {},
   "outputs": [
    {
     "name": "stdin",
     "output_type": "stream",
     "text": [
      "please enter the value  sujay\n"
     ]
    },
    {
     "name": "stdout",
     "output_type": "stream",
     "text": [
      "sorry you have entered a wrong or invalid value\n"
     ]
    },
    {
     "name": "stdin",
     "output_type": "stream",
     "text": [
      "please enter the value  100\n"
     ]
    },
    {
     "name": "stdout",
     "output_type": "stream",
     "text": [
      "the value is not with in range \n"
     ]
    },
    {
     "name": "stdin",
     "output_type": "stream",
     "text": [
      "please enter the value  4\n"
     ]
    },
    {
     "data": {
      "text/plain": [
       "4"
      ]
     },
     "execution_count": 12,
     "metadata": {},
     "output_type": "execute_result"
    }
   ],
   "source": [
    "check1()"
   ]
  },
  {
   "cell_type": "raw",
   "id": "73008601-aea4-4861-8bc0-2e1a0347f435",
   "metadata": {},
   "source": [
    "creating a game where you can change the value in the list [1,2,3,]"
   ]
  },
  {
   "cell_type": "code",
   "execution_count": 5,
   "id": "87f2f2c2-9d81-4897-ac9c-bd82eb3f8fc6",
   "metadata": {},
   "outputs": [
    {
     "name": "stdout",
     "output_type": "stream",
     "text": [
      "these are the element present in the list \n",
      "[0, 1, 2]\n"
     ]
    },
    {
     "name": "stdin",
     "output_type": "stream",
     "text": [
      "enter the position please two\n"
     ]
    },
    {
     "name": "stdout",
     "output_type": "stream",
     "text": [
      "you have entered the wrong value \n"
     ]
    },
    {
     "name": "stdin",
     "output_type": "stream",
     "text": [
      "enter the position please 1\n",
      "enter the value to replace sujay\n"
     ]
    },
    {
     "name": "stdout",
     "output_type": "stream",
     "text": [
      "these are the element present in the list \n",
      "[0, 'sujay', 2]\n"
     ]
    },
    {
     "name": "stdin",
     "output_type": "stream",
     "text": [
      "enter the value yes are no as Y OR N k\n"
     ]
    },
    {
     "name": "stdout",
     "output_type": "stream",
     "text": [
      "you have entered the wrong value\n"
     ]
    },
    {
     "name": "stdin",
     "output_type": "stream",
     "text": [
      "enter the value yes are no as Y OR N y\n"
     ]
    },
    {
     "name": "stdout",
     "output_type": "stream",
     "text": [
      "you have entered the wrong value\n"
     ]
    },
    {
     "name": "stdin",
     "output_type": "stream",
     "text": [
      "enter the value yes are no as Y OR N Y\n"
     ]
    },
    {
     "name": "stdout",
     "output_type": "stream",
     "text": [
      "these are the element present in the list \n",
      "[0, 'sujay', 2]\n"
     ]
    },
    {
     "name": "stdin",
     "output_type": "stream",
     "text": [
      "enter the position please 0\n"
     ]
    },
    {
     "name": "stdout",
     "output_type": "stream",
     "text": [
      "you have entered the wrong value \n"
     ]
    },
    {
     "name": "stdin",
     "output_type": "stream",
     "text": [
      "enter the position please 4\n"
     ]
    },
    {
     "name": "stdout",
     "output_type": "stream",
     "text": [
      "you have entered the wrong value \n"
     ]
    },
    {
     "name": "stdin",
     "output_type": "stream",
     "text": [
      "enter the position please 0\n"
     ]
    },
    {
     "name": "stdout",
     "output_type": "stream",
     "text": [
      "you have entered the wrong value \n"
     ]
    },
    {
     "name": "stdin",
     "output_type": "stream",
     "text": [
      "enter the position please 1\n",
      "enter the value to replace 2\n"
     ]
    },
    {
     "name": "stdout",
     "output_type": "stream",
     "text": [
      "these are the element present in the list \n",
      "[0, '2', 2]\n"
     ]
    },
    {
     "name": "stdin",
     "output_type": "stream",
     "text": [
      "enter the value yes are no as Y OR N Y\n"
     ]
    },
    {
     "name": "stdout",
     "output_type": "stream",
     "text": [
      "these are the element present in the list \n",
      "[0, '2', 2]\n"
     ]
    },
    {
     "name": "stdin",
     "output_type": "stream",
     "text": [
      "enter the position please 2\n",
      "enter the value to replace GU\n"
     ]
    },
    {
     "name": "stdout",
     "output_type": "stream",
     "text": [
      "these are the element present in the list \n",
      "[0, '2', 'GU']\n"
     ]
    },
    {
     "name": "stdin",
     "output_type": "stream",
     "text": [
      "enter the value yes are no as Y OR N N\n"
     ]
    }
   ],
   "source": [
    "mylist=[1,2,3]\n",
    "def display(mylist):\n",
    "    print(\"these are the element present in the list \")\n",
    "    print(mylist)\n",
    "\n",
    "#selecting the position function \n",
    "def position(mylist):\n",
    "    pos='' \n",
    "    while pos not in ['0','1','2']:\n",
    "        pos=input(\"enter the position please\")\n",
    "        if pos not in ['0','1','2']:\n",
    "            print(\"you have entered the wrong value \")\n",
    "    return int(pos)\n",
    "    \n",
    "#creating the replace function \n",
    "def replace(mylist,pos):\n",
    "    replacevalue=input(\"enter the value to replace\")\n",
    "    mylist[pos]=replacevalue\n",
    "    return mylist\n",
    "\n",
    "#creating the go on play function \n",
    "def goon():\n",
    "    go=''\n",
    "    while go not in ['Y','N']:\n",
    "        go=input('enter the value yes are no as Y OR N')\n",
    "        if go not in ['Y','N']:\n",
    "            print('you have entered the wrong value')\n",
    "    if go=='Y':\n",
    "        return True\n",
    "    else:\n",
    "        return False\n",
    "\n",
    "#main program with all this combined function \n",
    "\n",
    "go_on=True\n",
    "mylist=[0,1,2]\n",
    "while go_on:\n",
    "    display(mylist)\n",
    "    pos=position(mylist)\n",
    "    mylist=replace(mylist,pos)\n",
    "    display(mylist)\n",
    "    go_on=goon()\n",
    "\n",
    "    "
   ]
  },
  {
   "cell_type": "code",
   "execution_count": 3,
   "id": "6554af32-15c2-41c4-9b4e-0797cdfe68fc",
   "metadata": {},
   "outputs": [],
   "source": [
    "#tic tac to game "
   ]
  },
  {
   "cell_type": "code",
   "execution_count": 5,
   "id": "f877396e-e492-4fba-89b0-a9f358671fff",
   "metadata": {},
   "outputs": [],
   "source": [
    "from IPython.display import clear_output"
   ]
  },
  {
   "cell_type": "code",
   "execution_count": 7,
   "id": "50713b9e-c7d8-4550-ac11-faec5667aecd",
   "metadata": {},
   "outputs": [],
   "source": [
    "sam=['#',' ','x','x','o','o','x','o','x','o']"
   ]
  },
  {
   "cell_type": "code",
   "execution_count": 9,
   "id": "b5b897eb-b64a-42cb-91f6-ed8fa5525eb0",
   "metadata": {},
   "outputs": [],
   "source": [
    "def board(sam):\n",
    "    clear_output()\n",
    "    print(sam[7]+'|'+sam[8]+'|'+sam[9])\n",
    "    print(sam[4]+'|'+sam[5]+'|'+sam[6])\n",
    "    print(sam[1]+'|'+sam[2]+'|'+sam[3])\n",
    "\n"
   ]
  },
  {
   "cell_type": "code",
   "execution_count": 11,
   "id": "6dc1c3fd-7c29-4ce8-931b-02d5b1cb7b02",
   "metadata": {},
   "outputs": [
    {
     "name": "stdout",
     "output_type": "stream",
     "text": [
      "o|x|o\n",
      "o|o|x\n",
      " |x|x\n"
     ]
    }
   ],
   "source": [
    "board(sam)\n",
    "\n",
    "\n"
   ]
  },
  {
   "cell_type": "code",
   "execution_count": 13,
   "id": "04d679de-de2b-44d5-9d3d-2d2c2bf3faf3",
   "metadata": {},
   "outputs": [],
   "source": [
    "#creating the funcion for marker x or o"
   ]
  },
  {
   "cell_type": "code",
   "execution_count": 15,
   "id": "cd618f85-19cd-4fdf-afea-7ca9c83f6061",
   "metadata": {},
   "outputs": [],
   "source": [
    "def player():\n",
    "    marker=0\n",
    "    while marker !='x' and marker!='o':\n",
    "        marker=input('ENTER THE MARKER VALUE PLEASE (x or o) ').lower()\n",
    "    if marker == 'x':\n",
    "        return('x','o')\n",
    "    else:\n",
    "        return('o','x')\n",
    "     \n",
    "    "
   ]
  },
  {
   "cell_type": "code",
   "execution_count": 17,
   "id": "135793a8-33f9-4458-84d3-e7b7c17ed73c",
   "metadata": {},
   "outputs": [
    {
     "name": "stdin",
     "output_type": "stream",
     "text": [
      "ENTER THE MARKER VALUE PLEASE (x or o)  x\n"
     ]
    },
    {
     "data": {
      "text/plain": [
       "('x', 'o')"
      ]
     },
     "execution_count": 17,
     "metadata": {},
     "output_type": "execute_result"
    }
   ],
   "source": [
    "player()"
   ]
  },
  {
   "cell_type": "code",
   "execution_count": 19,
   "id": "d4b4c0b1-dd76-447f-8859-6fb3b6b9745c",
   "metadata": {},
   "outputs": [],
   "source": [
    "# Creating the funtion to get the marker  "
   ]
  },
  {
   "cell_type": "code",
   "execution_count": 21,
   "id": "d07878df-44a5-4aae-8146-240c3ed58f28",
   "metadata": {},
   "outputs": [],
   "source": [
    "def position1(sam,marker,position):\n",
    "    sam[position]=marker"
   ]
  },
  {
   "cell_type": "code",
   "execution_count": 23,
   "id": "1f176ba7-22da-41c0-b3ee-f4ea75c5b4d2",
   "metadata": {},
   "outputs": [],
   "source": [
    "position1(sam,'y',4)\n"
   ]
  },
  {
   "cell_type": "code",
   "execution_count": 25,
   "id": "ef2b119f-b098-4236-8242-1b639debee31",
   "metadata": {},
   "outputs": [
    {
     "name": "stdout",
     "output_type": "stream",
     "text": [
      "o|x|o\n",
      "y|o|x\n",
      " |x|x\n"
     ]
    }
   ],
   "source": [
    "board(sam)"
   ]
  },
  {
   "cell_type": "code",
   "execution_count": 27,
   "id": "17ac61e9-f851-4359-b612-31825ae456e5",
   "metadata": {},
   "outputs": [],
   "source": [
    "#creating the funtion to check winer "
   ]
  },
  {
   "cell_type": "code",
   "execution_count": 29,
   "id": "1c6a56eb-6503-4ca8-81a8-f0935a25f2f0",
   "metadata": {},
   "outputs": [],
   "source": [
    "def winnercheck(sam,marker):\n",
    "    return ((sam[7]==sam[8]==sam[9]==marker)or\n",
    "            (sam[4]==sam[5]==sam[6]==marker)or\n",
    "            (sam[1]==sam[2]==sam[3]==marker)or\n",
    "            (sam[7]==sam[4]==sam[1]==marker)or\n",
    "            (sam[8]==sam[5]==sam[2]==marker)or\n",
    "            (sam[9]==sam[6]==sam[3]==marker)or\n",
    "            (sam[7]==sam[5]==sam[3]==marker)or\n",
    "            (sam[9]==sam[5]==sam[1]==marker))"
   ]
  },
  {
   "cell_type": "code",
   "execution_count": 31,
   "id": "31ea2374-ca65-4636-8a01-e4d10d6161bf",
   "metadata": {},
   "outputs": [
    {
     "data": {
      "text/plain": [
       "False"
      ]
     },
     "execution_count": 31,
     "metadata": {},
     "output_type": "execute_result"
    }
   ],
   "source": [
    "winnercheck(sam,'o')"
   ]
  },
  {
   "cell_type": "code",
   "execution_count": 33,
   "id": "d866d83d-233b-4e98-b165-afd9256a91c2",
   "metadata": {},
   "outputs": [],
   "source": [
    "#randam player choose function "
   ]
  },
  {
   "cell_type": "code",
   "execution_count": 35,
   "id": "8bb75423-871f-4cbb-8eb0-56a309b558e3",
   "metadata": {},
   "outputs": [],
   "source": [
    "import random"
   ]
  },
  {
   "cell_type": "code",
   "execution_count": 37,
   "id": "61b3486b-f674-4f64-8dc5-3a1dbbfb5d58",
   "metadata": {},
   "outputs": [],
   "source": [
    "def chooseplayer():\n",
    " \n",
    "    flip=random.randint(0,1)\n",
    "    if flip ==0:\n",
    "        return 'player1'\n",
    "    else:\n",
    "        return 'player2'"
   ]
  },
  {
   "cell_type": "code",
   "execution_count": 39,
   "id": "42e5b7a6-e804-4edf-93e8-919ee7766b7e",
   "metadata": {},
   "outputs": [
    {
     "data": {
      "text/plain": [
       "'player2'"
      ]
     },
     "execution_count": 39,
     "metadata": {},
     "output_type": "execute_result"
    }
   ],
   "source": [
    "chooseplayer()"
   ]
  },
  {
   "cell_type": "code",
   "execution_count": 41,
   "id": "f777bd27-df05-4ae0-a5cb-a14157702256",
   "metadata": {},
   "outputs": [],
   "source": [
    "#checking the space is available or not "
   ]
  },
  {
   "cell_type": "code",
   "execution_count": 43,
   "id": "da97788f-9dd6-433c-a1a8-696cfbc31659",
   "metadata": {},
   "outputs": [],
   "source": [
    "def spacecheck(sam,position):\n",
    "    return sam[position]==' '"
   ]
  },
  {
   "cell_type": "code",
   "execution_count": 45,
   "id": "47687d8d-e286-49ed-bde8-9299f4912c2d",
   "metadata": {},
   "outputs": [
    {
     "data": {
      "text/plain": [
       "True"
      ]
     },
     "execution_count": 45,
     "metadata": {},
     "output_type": "execute_result"
    }
   ],
   "source": [
    "spacecheck(sam,1)"
   ]
  },
  {
   "cell_type": "code",
   "execution_count": 47,
   "id": "1270e030-bf83-4e98-b764-61250ca0811c",
   "metadata": {},
   "outputs": [],
   "source": [
    "#check weather the game is tie or not by full space check"
   ]
  },
  {
   "cell_type": "code",
   "execution_count": 49,
   "id": "c0215a92-0f27-47c0-8751-ee61a7eafc42",
   "metadata": {},
   "outputs": [],
   "source": [
    "def fullspacecheck(sam):\n",
    "    for i in range(1,10):\n",
    "        if spacecheck(sam,i):\n",
    "            return False\n",
    "    return True\n",
    "        "
   ]
  },
  {
   "cell_type": "code",
   "execution_count": 51,
   "id": "1e737331-d630-4a32-bce4-1c25b3c457b5",
   "metadata": {},
   "outputs": [
    {
     "data": {
      "text/plain": [
       "False"
      ]
     },
     "execution_count": 51,
     "metadata": {},
     "output_type": "execute_result"
    }
   ],
   "source": [
    "fullspacecheck(sam)"
   ]
  },
  {
   "cell_type": "code",
   "execution_count": 53,
   "id": "3b57eb95-34a6-43a9-ad9c-cb23d631041a",
   "metadata": {},
   "outputs": [],
   "source": [
    "#creting a fuction that gets the user next position "
   ]
  },
  {
   "cell_type": "code",
   "execution_count": 55,
   "id": "9ca0c7b8-e3a4-4b87-a806-10213117abda",
   "metadata": {},
   "outputs": [],
   "source": [
    "def player_choice(board):\n",
    "    position = 0\n",
    "    \n",
    "    while position not in [1,2,3,4,5,6,7,8,9] or not spacecheck(board, position):\n",
    "        position = int(input('Choose your next position: (1-9) '))\n",
    "        \n",
    "    return position"
   ]
  },
  {
   "cell_type": "code",
   "execution_count": 57,
   "id": "961bc808-4d4b-4e15-bf22-ced36940a930",
   "metadata": {},
   "outputs": [
    {
     "name": "stdin",
     "output_type": "stream",
     "text": [
      "Choose your next position: (1-9)  1\n"
     ]
    },
    {
     "data": {
      "text/plain": [
       "1"
      ]
     },
     "execution_count": 57,
     "metadata": {},
     "output_type": "execute_result"
    }
   ],
   "source": [
    "player_choice(sam)"
   ]
  },
  {
   "cell_type": "code",
   "execution_count": 137,
   "id": "9f7dfa66-0fca-4668-95a1-636f1c4621af",
   "metadata": {},
   "outputs": [],
   "source": [
    "#creating a replay funtion "
   ]
  },
  {
   "cell_type": "code",
   "execution_count": 59,
   "id": "a8d40557-464e-4a0f-a1d1-f50a1be2832e",
   "metadata": {},
   "outputs": [],
   "source": [
    "def replay():\n",
    "    play=input('YES IF YOU WANT TO PLAY AGAIN OR PRINT NO').lower()\n",
    "    return play=='yes'"
   ]
  },
  {
   "cell_type": "code",
   "execution_count": 61,
   "id": "822e18d2-6052-425f-bf34-7ce968a68ad2",
   "metadata": {},
   "outputs": [
    {
     "name": "stdin",
     "output_type": "stream",
     "text": [
      "YES IF YOU WANT TO PLAY AGAIN OR PRINT NO yes\n"
     ]
    },
    {
     "data": {
      "text/plain": [
       "True"
      ]
     },
     "execution_count": 61,
     "metadata": {},
     "output_type": "execute_result"
    }
   ],
   "source": [
    "replay()"
   ]
  },
  {
   "cell_type": "code",
   "execution_count": 63,
   "id": "164b17d6-09ce-4741-ac7e-2689dd8be6b9",
   "metadata": {},
   "outputs": [],
   "source": [
    "#main funtion call to combine all the funtion "
   ]
  },
  {
   "cell_type": "code",
   "execution_count": null,
   "id": "99f362ea-89b5-41a5-926c-f8c05f149511",
   "metadata": {},
   "outputs": [
    {
     "name": "stdout",
     "output_type": "stream",
     "text": [
      "x|x|x\n",
      " | |o\n",
      "o| | \n",
      "player 2 has won the game\n"
     ]
    }
   ],
   "source": [
    "print( \"WELLCOME TO THE TIC TAC TO GAME \")\n",
    "while True:\n",
    "    sam=[' ']*10\n",
    "    board(sam)\n",
    "    player1_marker,player2_marker=player()\n",
    "    turn=chooseplayer()\n",
    "    print(turn+'will go first')\n",
    "    play=input('do you want to play type : yes or no ')\n",
    "    if play=='yes':\n",
    "        gameon=True\n",
    "    else :\n",
    "        gameon=False\n",
    "\n",
    "    while gameon:\n",
    "        \n",
    "            if turn=='player1':\n",
    "                board(sam)\n",
    "                position=player_choice(sam)\n",
    "                position1(sam,player1_marker,position)\n",
    "                \n",
    "                \n",
    "                if winnercheck(sam,player1_marker):\n",
    "                    board(sam)\n",
    "                    print('player 1 has won the game')\n",
    "                    gameon=False\n",
    "                else:\n",
    "                    if fullspacecheck(sam):\n",
    "                        board(sam)\n",
    "                        print('the game is tie')\n",
    "                        gameon=False\n",
    "                    else:\n",
    "                        turn='player2'\n",
    "                    \n",
    "\n",
    "\n",
    "\n",
    "\n",
    "\n",
    "\n",
    "            else:\n",
    "                if turn=='player2':\n",
    "                    board(sam)\n",
    "                    position=player_choice(sam)\n",
    "                    position1(sam,player2_marker,position)\n",
    "                \n",
    "                \n",
    "                if winnercheck(sam,player2_marker):\n",
    "                    board(sam)\n",
    "                    print('player 2 has won the game')\n",
    "                    gameon=False\n",
    "                else:\n",
    "                    \n",
    "                    if fullspacecheck(sam):\n",
    "                        board(sam)\n",
    "                        print('the game is tie')\n",
    "                        gameon=False\n",
    "                    else:\n",
    "                        turn='player1'\n",
    "        \n",
    "        \n",
    "        \n",
    "\n",
    "    \n",
    "\n",
    "\n",
    "\n",
    "\n",
    "    if not replay():\n",
    "        break\n",
    "      "
   ]
  },
  {
   "cell_type": "code",
   "execution_count": null,
   "id": "da91078a-f049-4a39-9896-9b8ef5116068",
   "metadata": {},
   "outputs": [],
   "source": [
    "\n"
   ]
  },
  {
   "cell_type": "code",
   "execution_count": null,
   "id": "3392fb18-c98f-4035-bae5-e96f0801c0e1",
   "metadata": {},
   "outputs": [],
   "source": []
  }
 ],
 "metadata": {
  "kernelspec": {
   "display_name": "Python 3 (ipykernel)",
   "language": "python",
   "name": "python3"
  },
  "language_info": {
   "codemirror_mode": {
    "name": "ipython",
    "version": 3
   },
   "file_extension": ".py",
   "mimetype": "text/x-python",
   "name": "python",
   "nbconvert_exporter": "python",
   "pygments_lexer": "ipython3",
   "version": "3.12.4"
  }
 },
 "nbformat": 4,
 "nbformat_minor": 5
}
