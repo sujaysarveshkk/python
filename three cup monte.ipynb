{
 "cells": [
  {
   "cell_type": "markdown",
   "id": "75a3c9e5-1e51-4b03-b25e-1ed2468d8e9b",
   "metadata": {},
   "source": [
    "carnival guessing game  \"three cup monte\""
   ]
  },
  {
   "cell_type": "code",
   "execution_count": 180,
   "id": "2d8b0027-3d48-41d0-9410-70c80773d00d",
   "metadata": {},
   "outputs": [],
   "source": [
    "mylist=[1,2,4]"
   ]
  },
  {
   "cell_type": "markdown",
   "id": "90944e42-a078-4197-a668-61ef077c4a6f",
   "metadata": {},
   "source": [
    "creating the shuffle function to shuffle the list so you need to import\n",
    "random"
   ]
  },
  {
   "cell_type": "code",
   "execution_count": 228,
   "id": "d7bc195a-7f15-44b4-8730-dc9f1e437ca3",
   "metadata": {},
   "outputs": [],
   "source": [
    "from random import shuffle "
   ]
  },
  {
   "cell_type": "code",
   "execution_count": 230,
   "id": "88d58221-2f81-4040-af47-b72e8d78c6dd",
   "metadata": {},
   "outputs": [],
   "source": [
    "def shuffle_list(mylist):\n",
    "    shuffle(mylist)\n",
    "    return mylist"
   ]
  },
  {
   "cell_type": "code",
   "execution_count": null,
   "id": "ffa2ec8d-dacc-445c-b841-5f92b045d10e",
   "metadata": {},
   "outputs": [],
   "source": []
  },
  {
   "cell_type": "markdown",
   "id": "0058c3e8-edd5-4dfb-b3d9-26e07e9bcc47",
   "metadata": {},
   "source": [
    "creating the function to get the guessed value "
   ]
  },
  {
   "cell_type": "code",
   "execution_count": 234,
   "id": "09cbd58a-9f97-40d8-8d54-97ae8a647897",
   "metadata": {},
   "outputs": [],
   "source": [
    "def guess_it():\n",
    "    guess=''\n",
    "    while guess not in ['0','1','2',]:\n",
    "        guess= input( 'pick a number : 0, 1,,or 2: ')\n",
    "    return int(guess)"
   ]
  },
  {
   "cell_type": "code",
   "execution_count": null,
   "id": "9a0676b2-18ae-4d76-9845-f312692ec7fb",
   "metadata": {},
   "outputs": [],
   "source": []
  },
  {
   "cell_type": "markdown",
   "id": "90e31dea-0fd7-4a3a-b85b-cca4adbbbf16",
   "metadata": {},
   "source": [
    "creating a funtion to perform the logic "
   ]
  },
  {
   "cell_type": "code",
   "execution_count": 238,
   "id": "c77d0fd6-6dce-44eb-8ada-88c807ff8f60",
   "metadata": {},
   "outputs": [],
   "source": [
    "def check_guess(mylist,guess):\n",
    "    if mylist[guess]== 'O':\n",
    "        print('your guess is correct ')\n",
    "    else:\n",
    "        print('try later')\n",
    "        print(mylist)\n",
    "    "
   ]
  },
  {
   "cell_type": "markdown",
   "id": "12d2d4a0-72d7-4f0b-9248-8e9a22f69f64",
   "metadata": {},
   "source": [
    "time to call all the funtion "
   ]
  },
  {
   "cell_type": "markdown",
   "id": "7df38a5c-61d2-4d65-82a7-d92d0d5a36f0",
   "metadata": {},
   "source": [
    "intial list"
   ]
  },
  {
   "cell_type": "code",
   "execution_count": 242,
   "id": "f763d2a5-d2e0-4f52-888b-5c8e9fecddda",
   "metadata": {},
   "outputs": [],
   "source": [
    "mylist= [ '', 'O', '']"
   ]
  },
  {
   "cell_type": "markdown",
   "id": "a6c294e8-f121-4000-8a52-d98360280238",
   "metadata": {},
   "source": [
    "SHUFFLED LIST "
   ]
  },
  {
   "cell_type": "code",
   "execution_count": 245,
   "id": "7212ca0b-89c1-4063-948e-19c5175decca",
   "metadata": {},
   "outputs": [],
   "source": [
    "mixed_list= shuffle_list(mylist)"
   ]
  },
  {
   "cell_type": "markdown",
   "id": "81dad91b-bccd-448d-9579-2b58d94bc5cb",
   "metadata": {},
   "source": [
    "guess function call"
   ]
  },
  {
   "cell_type": "code",
   "execution_count": 248,
   "id": "2ee645fc-a052-4ccd-8c61-59fabe2f1211",
   "metadata": {},
   "outputs": [
    {
     "name": "stdin",
     "output_type": "stream",
     "text": [
      "pick a number : 0, 1,,or 2:  0\n"
     ]
    },
    {
     "name": "stdout",
     "output_type": "stream",
     "text": [
      "try later\n",
      "['', '', 'O']\n"
     ]
    }
   ],
   "source": [
    "guess = guess_it()\n",
    "check_guess(mixed_list,guess)"
   ]
  },
  {
   "cell_type": "code",
   "execution_count": null,
   "id": "638ebde9-ec59-4032-b84a-117775105f07",
   "metadata": {},
   "outputs": [],
   "source": []
  }
 ],
 "metadata": {
  "kernelspec": {
   "display_name": "Python 3 (ipykernel)",
   "language": "python",
   "name": "python3"
  },
  "language_info": {
   "codemirror_mode": {
    "name": "ipython",
    "version": 3
   },
   "file_extension": ".py",
   "mimetype": "text/x-python",
   "name": "python",
   "nbconvert_exporter": "python",
   "pygments_lexer": "ipython3",
   "version": "3.12.4"
  }
 },
 "nbformat": 4,
 "nbformat_minor": 5
}
