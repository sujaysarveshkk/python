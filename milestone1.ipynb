#tic tac to game 


from IPython.display import clear_output


sam=['#',' ','x','x','o','o','x','o','x','o']


def board(sam):
    clear_output()
    print(sam[7]+'|'+sam[8]+'|'+sam[9])
    print(sam[4]+'|'+sam[5]+'|'+sam[6])
    print(sam[1]+'|'+sam[2]+'|'+sam[3])





